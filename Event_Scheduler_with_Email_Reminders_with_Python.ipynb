{
  "nbformat": 4,
  "nbformat_minor": 0,
  "metadata": {
    "colab": {
      "provenance": []
    },
    "kernelspec": {
      "name": "python3",
      "display_name": "Python 3"
    },
    "language_info": {
      "name": "python"
    }
  },
  "cells": [
    {
      "cell_type": "code",
      "execution_count": 1,
      "metadata": {
        "colab": {
          "base_uri": "https://localhost:8080/"
        },
        "id": "qwAONbfBDZNX",
        "outputId": "de4b576b-02c7-40ff-82d5-9d9cec5c6fd7"
      },
      "outputs": [
        {
          "output_type": "stream",
          "name": "stdout",
          "text": [
            "Collecting schedule\n",
            "  Downloading schedule-1.2.2-py3-none-any.whl.metadata (3.8 kB)\n",
            "Downloading schedule-1.2.2-py3-none-any.whl (12 kB)\n",
            "Installing collected packages: schedule\n",
            "Successfully installed schedule-1.2.2\n"
          ]
        }
      ],
      "source": [
        "!pip install schedule"
      ]
    },
    {
      "cell_type": "code",
      "source": [
        "'''\n",
        "tkinter: For the GUI\n",
        "\n",
        "datetime: To manage dates and times\n",
        "\n",
        "threading: So we can run the scheduler in the background\n",
        "\n",
        "smtplib: To send emails\n",
        "\n",
        "time, schedule: Used for periodic checks\n",
        "'''"
      ],
      "metadata": {
        "colab": {
          "base_uri": "https://localhost:8080/",
          "height": 70
        },
        "id": "20wpGoaeEVJU",
        "outputId": "30acbf4d-7e1c-4edc-d201-26fe5812891c"
      },
      "execution_count": 2,
      "outputs": [
        {
          "output_type": "execute_result",
          "data": {
            "text/plain": [
              "'\\ntkinter: For the GUI\\n\\ndatetime: To manage dates and times\\n\\nthreading: So we can run the scheduler in the background\\n\\nsmtplib: To send emails\\n\\ntime, schedule: Used for periodic checks\\n'"
            ],
            "application/vnd.google.colaboratory.intrinsic+json": {
              "type": "string"
            }
          },
          "metadata": {},
          "execution_count": 2
        }
      ]
    },
    {
      "cell_type": "markdown",
      "source": [
        "### Libraries"
      ],
      "metadata": {
        "id": "lcMeBmSuEfHn"
      }
    },
    {
      "cell_type": "code",
      "source": [
        "import tkinter as tk\n",
        "from tkinter import messagebox\n",
        "from datetime import datetime\n",
        "import threading\n",
        "import smtplib\n",
        "import time\n",
        "import schedule"
      ],
      "metadata": {
        "id": "-wPDKHkZEdOI"
      },
      "execution_count": 3,
      "outputs": []
    },
    {
      "cell_type": "code",
      "source": [
        "def send_email(to_email, subject, message):\n",
        "    sender_email = \"youremail@gmail.com\"\n",
        "    sender_password = \"yourapppassword\"\n",
        "     # Connect to Gmail's SMTP server\n",
        "    try:\n",
        "        with smtplib.SMTP(\"smtp.gmail.com\", 587) as server:\n",
        "            server.starttls() # Logs in to your gamil account\n",
        "            server.login(sender_email, sender_password)\n",
        "             # Create the email content\n",
        "            email_message = f\"Subject: {subject}\\n\\n{message}\"\n",
        "            server.sendmail(sender_email, to_email, email_message)\n",
        "    except Exception as e:\n",
        "        print(\"Error sending email:\", e)\n",
        ""
      ],
      "metadata": {
        "id": "vVQOolA1E-N3"
      },
      "execution_count": 4,
      "outputs": []
    },
    {
      "cell_type": "code",
      "source": [
        "## Schedule Event\n",
        "\n",
        "def schedule_event(email,event_msg,event_time):\n",
        "   def job():\n",
        "    send_email(email,\"Event Reminder\",event_msg)\n",
        "    print(\"Reminder sent!\")\n",
        "    #use schedule is library to send a reminder at the right time\n",
        "   schedule.every().day.at(event_time).do(job)\n"
      ],
      "metadata": {
        "id": "rFKtnYBJI7ch"
      },
      "execution_count": 7,
      "outputs": []
    },
    {
      "cell_type": "markdown",
      "source": [
        "### Background Thread"
      ],
      "metadata": {
        "id": "GeGyIwZ-L96l"
      }
    },
    {
      "cell_type": "code",
      "source": [
        "def run_scheduler():#Keeps checking every second if it's time to run a scheduled job.\n",
        "    while True:\n",
        "        schedule.run_pending()\n",
        "        time.sleep(1)"
      ],
      "metadata": {
        "id": "xCpQxxqALZ6N"
      },
      "execution_count": 6,
      "outputs": []
    },
    {
      "cell_type": "code",
      "source": [
        "## Event Add Function :\n",
        "\n",
        "# Grabs the input.\n",
        "# Validates the time format.\n",
        "# Calls schedule_event() to set up the reminder\n",
        "\n",
        "\n",
        "def add_event():\n",
        "  email=email_entry.get()\n",
        "  msg=messege_entry.get()\n",
        "  time_srt=time_entry.get()\n",
        "\n",
        "  try:\n",
        "      datetime.strptime(time_str,\"%H:%M\")# Validate time format\n",
        "\n",
        "  except:\n",
        "       messagebox.showerror(\"Invalid Time\",\"Time must be in HM:MM format\")\n",
        "       return\n",
        "\n",
        "  schedule_event(email,msg,time_str)\n",
        "  messagebox.showinfo(\"Event Schedules\",\"Event scheduled!\")\n",
        ""
      ],
      "metadata": {
        "id": "dxJJ9rHuL6ay"
      },
      "execution_count": 8,
      "outputs": []
    },
    {
      "cell_type": "markdown",
      "source": [
        "### Get user Input"
      ],
      "metadata": {
        "id": "m5mZ7uimOrGP"
      }
    },
    {
      "cell_type": "code",
      "source": [
        "def get_event_details():\n",
        "    print(\"=== Event Schedule ===\")\n",
        "    email = input(\"Enter recipient email:\")\n",
        "    message = input(\"Enter event message:\")\n",
        "    time_str=input(\"Enter time (HH:MM,24-hour format):\")\n",
        "    return email,message,time_str"
      ],
      "metadata": {
        "id": "i-GDV3dnOpL3"
      },
      "execution_count": 11,
      "outputs": []
    },
    {
      "cell_type": "code",
      "source": [
        "if __name__ == \"__main__\":\n",
        "  email,message,event_time = get_event_details()\n",
        "  schedule_event(email,message,event_time)\n",
        "  run_scheduler()"
      ],
      "metadata": {
        "colab": {
          "base_uri": "https://localhost:8080/"
        },
        "id": "_cWsypAdO6jv",
        "outputId": "66ca662c-627e-41e0-9f82-2fc4fcec2bb0"
      },
      "execution_count": null,
      "outputs": [
        {
          "name": "stdout",
          "output_type": "stream",
          "text": [
            "=== Event Schedule ===\n",
            "Enter recipient email:rakivarma1432@gmail.com\n",
            "Enter event message:Hello\n",
            "Enter time (HH:MM,24-hour format):11:00\n"
          ]
        }
      ]
    },
    {
      "cell_type": "code",
      "source": [],
      "metadata": {
        "id": "sjCZNvMQR9kg"
      },
      "execution_count": null,
      "outputs": []
    }
  ]
}