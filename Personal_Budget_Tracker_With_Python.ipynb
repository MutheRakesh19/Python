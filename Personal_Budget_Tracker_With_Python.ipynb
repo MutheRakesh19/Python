{
  "nbformat": 4,
  "nbformat_minor": 0,
  "metadata": {
    "colab": {
      "provenance": []
    },
    "kernelspec": {
      "name": "python3",
      "display_name": "Python 3"
    },
    "language_info": {
      "name": "python"
    }
  },
  "cells": [
    {
      "cell_type": "code",
      "execution_count": 39,
      "metadata": {
        "colab": {
          "base_uri": "https://localhost:8080/",
          "height": 70
        },
        "id": "fyVD07_iYYmk",
        "outputId": "b59b8ae4-f90f-4ed0-95a8-4334ac420324"
      },
      "outputs": [
        {
          "output_type": "execute_result",
          "data": {
            "text/plain": [
              "\"\\n A Personal Budget Tracker with Data Visualization is a perfect project to improve your Python skills while building something very useful. Let's break it into parts and give you a complete code example using a simple UI and graphs.\\n\""
            ],
            "application/vnd.google.colaboratory.intrinsic+json": {
              "type": "string"
            }
          },
          "metadata": {},
          "execution_count": 39
        }
      ],
      "source": [
        "'''\n",
        " A Personal Budget Tracker with Data Visualization is a perfect project to improve your Python skills while building something very useful. Let's break it into parts and give you a complete code example using a simple UI and graphs.\n",
        "'''"
      ]
    },
    {
      "cell_type": "code",
      "source": [
        "'''''\n",
        "tkinter – GUI (built-in in Python)\n",
        "\n",
        "sqlite3 – Database to store transactions\n",
        "\n",
        "matplotlib – To show graphs\n",
        "\n",
        "datetime – For date handling\n",
        "'''''"
      ],
      "metadata": {
        "colab": {
          "base_uri": "https://localhost:8080/",
          "height": 53
        },
        "id": "2jZFMWCTYbqk",
        "outputId": "5b08d79c-cdc0-493d-cd5a-2614b5e69c3a"
      },
      "execution_count": 40,
      "outputs": [
        {
          "output_type": "execute_result",
          "data": {
            "text/plain": [
              "\"''\\ntkinter – GUI (built-in in Python)\\n\\nsqlite3 – Database to store transactions\\n\\nmatplotlib – To show graphs\\n\\ndatetime – For date handling\\n\""
            ],
            "application/vnd.google.colaboratory.intrinsic+json": {
              "type": "string"
            }
          },
          "metadata": {},
          "execution_count": 40
        }
      ]
    },
    {
      "cell_type": "code",
      "source": [
        "!pip install streamlit\n"
      ],
      "metadata": {
        "colab": {
          "base_uri": "https://localhost:8080/"
        },
        "id": "Pb0Gdy89iHjS",
        "outputId": "53c9bb4d-9820-459c-c64f-e2998b5d8663"
      },
      "execution_count": 41,
      "outputs": [
        {
          "output_type": "stream",
          "name": "stdout",
          "text": [
            "Requirement already satisfied: streamlit in /usr/local/lib/python3.11/dist-packages (1.44.1)\n",
            "Requirement already satisfied: altair<6,>=4.0 in /usr/local/lib/python3.11/dist-packages (from streamlit) (5.5.0)\n",
            "Requirement already satisfied: blinker<2,>=1.0.0 in /usr/local/lib/python3.11/dist-packages (from streamlit) (1.9.0)\n",
            "Requirement already satisfied: cachetools<6,>=4.0 in /usr/local/lib/python3.11/dist-packages (from streamlit) (5.5.2)\n",
            "Requirement already satisfied: click<9,>=7.0 in /usr/local/lib/python3.11/dist-packages (from streamlit) (8.1.8)\n",
            "Requirement already satisfied: numpy<3,>=1.23 in /usr/local/lib/python3.11/dist-packages (from streamlit) (2.0.2)\n",
            "Requirement already satisfied: packaging<25,>=20 in /usr/local/lib/python3.11/dist-packages (from streamlit) (24.2)\n",
            "Requirement already satisfied: pandas<3,>=1.4.0 in /usr/local/lib/python3.11/dist-packages (from streamlit) (2.2.2)\n",
            "Requirement already satisfied: pillow<12,>=7.1.0 in /usr/local/lib/python3.11/dist-packages (from streamlit) (11.1.0)\n",
            "Requirement already satisfied: protobuf<6,>=3.20 in /usr/local/lib/python3.11/dist-packages (from streamlit) (5.29.4)\n",
            "Requirement already satisfied: pyarrow>=7.0 in /usr/local/lib/python3.11/dist-packages (from streamlit) (18.1.0)\n",
            "Requirement already satisfied: requests<3,>=2.27 in /usr/local/lib/python3.11/dist-packages (from streamlit) (2.32.3)\n",
            "Requirement already satisfied: tenacity<10,>=8.1.0 in /usr/local/lib/python3.11/dist-packages (from streamlit) (9.1.2)\n",
            "Requirement already satisfied: toml<2,>=0.10.1 in /usr/local/lib/python3.11/dist-packages (from streamlit) (0.10.2)\n",
            "Requirement already satisfied: typing-extensions<5,>=4.4.0 in /usr/local/lib/python3.11/dist-packages (from streamlit) (4.13.1)\n",
            "Requirement already satisfied: watchdog<7,>=2.1.5 in /usr/local/lib/python3.11/dist-packages (from streamlit) (6.0.0)\n",
            "Requirement already satisfied: gitpython!=3.1.19,<4,>=3.0.7 in /usr/local/lib/python3.11/dist-packages (from streamlit) (3.1.44)\n",
            "Requirement already satisfied: pydeck<1,>=0.8.0b4 in /usr/local/lib/python3.11/dist-packages (from streamlit) (0.9.1)\n",
            "Requirement already satisfied: tornado<7,>=6.0.3 in /usr/local/lib/python3.11/dist-packages (from streamlit) (6.4.2)\n",
            "Requirement already satisfied: jinja2 in /usr/local/lib/python3.11/dist-packages (from altair<6,>=4.0->streamlit) (3.1.6)\n",
            "Requirement already satisfied: jsonschema>=3.0 in /usr/local/lib/python3.11/dist-packages (from altair<6,>=4.0->streamlit) (4.23.0)\n",
            "Requirement already satisfied: narwhals>=1.14.2 in /usr/local/lib/python3.11/dist-packages (from altair<6,>=4.0->streamlit) (1.34.1)\n",
            "Requirement already satisfied: gitdb<5,>=4.0.1 in /usr/local/lib/python3.11/dist-packages (from gitpython!=3.1.19,<4,>=3.0.7->streamlit) (4.0.12)\n",
            "Requirement already satisfied: python-dateutil>=2.8.2 in /usr/local/lib/python3.11/dist-packages (from pandas<3,>=1.4.0->streamlit) (2.8.2)\n",
            "Requirement already satisfied: pytz>=2020.1 in /usr/local/lib/python3.11/dist-packages (from pandas<3,>=1.4.0->streamlit) (2025.2)\n",
            "Requirement already satisfied: tzdata>=2022.7 in /usr/local/lib/python3.11/dist-packages (from pandas<3,>=1.4.0->streamlit) (2025.2)\n",
            "Requirement already satisfied: charset-normalizer<4,>=2 in /usr/local/lib/python3.11/dist-packages (from requests<3,>=2.27->streamlit) (3.4.1)\n",
            "Requirement already satisfied: idna<4,>=2.5 in /usr/local/lib/python3.11/dist-packages (from requests<3,>=2.27->streamlit) (3.10)\n",
            "Requirement already satisfied: urllib3<3,>=1.21.1 in /usr/local/lib/python3.11/dist-packages (from requests<3,>=2.27->streamlit) (2.3.0)\n",
            "Requirement already satisfied: certifi>=2017.4.17 in /usr/local/lib/python3.11/dist-packages (from requests<3,>=2.27->streamlit) (2025.1.31)\n",
            "Requirement already satisfied: smmap<6,>=3.0.1 in /usr/local/lib/python3.11/dist-packages (from gitdb<5,>=4.0.1->gitpython!=3.1.19,<4,>=3.0.7->streamlit) (5.0.2)\n",
            "Requirement already satisfied: MarkupSafe>=2.0 in /usr/local/lib/python3.11/dist-packages (from jinja2->altair<6,>=4.0->streamlit) (3.0.2)\n",
            "Requirement already satisfied: attrs>=22.2.0 in /usr/local/lib/python3.11/dist-packages (from jsonschema>=3.0->altair<6,>=4.0->streamlit) (25.3.0)\n",
            "Requirement already satisfied: jsonschema-specifications>=2023.03.6 in /usr/local/lib/python3.11/dist-packages (from jsonschema>=3.0->altair<6,>=4.0->streamlit) (2024.10.1)\n",
            "Requirement already satisfied: referencing>=0.28.4 in /usr/local/lib/python3.11/dist-packages (from jsonschema>=3.0->altair<6,>=4.0->streamlit) (0.36.2)\n",
            "Requirement already satisfied: rpds-py>=0.7.1 in /usr/local/lib/python3.11/dist-packages (from jsonschema>=3.0->altair<6,>=4.0->streamlit) (0.24.0)\n",
            "Requirement already satisfied: six>=1.5 in /usr/local/lib/python3.11/dist-packages (from python-dateutil>=2.8.2->pandas<3,>=1.4.0->streamlit) (1.17.0)\n"
          ]
        }
      ]
    },
    {
      "cell_type": "code",
      "source": [
        "import sqlite3\n",
        "import tkinter\n",
        "import streamlit as st\n",
        "import tkinter as tk\n",
        "import tkinter.ttk as ttk\n",
        "from tkinter import messagebox\n",
        "from tkinter import ttk\n",
        "from datetime import datetime\n",
        "import matplotlib.pyplot as plt"
      ],
      "metadata": {
        "id": "YNUMZmpCYhbS"
      },
      "execution_count": 42,
      "outputs": []
    },
    {
      "cell_type": "code",
      "source": [
        "conn=sqlite3.connect('budget.db')  # create to a local database filename\n",
        "c=conn.cursor()\n",
        "## Prepare a cursor object to run SQL commands\n",
        "c.execute('''CREATE TABLE IF NOT EXISTS transactions\n",
        "(id INTEGERS PRIMARY KEY,\n",
        " type TEXT,\n",
        " category TEXT,\n",
        "amount REAL,\n",
        " date TEXT)''')\n",
        "## save changes to the database\n",
        "conn.commit()"
      ],
      "metadata": {
        "id": "69xJIx5sYrZp"
      },
      "execution_count": 43,
      "outputs": []
    },
    {
      "cell_type": "code",
      "source": [
        "def add_transaction():##This function adds a new transaction from the form input.\n",
        "    # Validate inputs\n",
        "    print(\"\\nAdd Transaction\")\n",
        "    type_ = input(\"Enter type (Income/Expense): \")\n",
        "    category = input(\"Enter category: \")\n",
        "    amount = input(\"Enter amount: \")\n",
        "    date = input(\"Enter date (YYYY-MM-DD): \")\n",
        "    # try:\n",
        "    #     amount=float(amount)\n",
        "    #     c.execute(\"INSERT INTO transaction(type,category,amount,date)VALUES\")\n",
        "\n",
        "    # # # Check for empty fields,,Gets the user input from the form.\n",
        "    # if not category or not amount or not date:\n",
        "    #     messagebox.showerror(\"Error\", \"All fields are required\")\n",
        "    #     return  # This return is inside the function\n",
        "    if not category or not amount or not date:\n",
        "        print(\"All fields are required\")\n",
        "        return\n",
        "    try:\n",
        "        amount = float(amount) # Convert amount to float\n",
        "        datetime.strptime(date, '%Y-%m-%d')\n",
        "    except:\n",
        "        print(\"Invalid amount or date format (YYYY-MM-DD)\")\n",
        "        return\n",
        "        # If inputs are valid, insert into database\n",
        "        c.execute(\"INSERT INTO transactions (type, category, amount, date) VALUES (?, ?, ?, ?)\",\n",
        "              (type_, category, amount, date))\n",
        "        conn.commit() # Commit the transaction to the database\n",
        "        print(\"Transaction added!\")\n",
        "    # except ValueError:\n",
        "    #     st.error(\"Invalid amount or date formert!\")\n",
        "\n",
        "\n",
        "    # messagebox.showinfo(\"Success\", \"Transaction added!\")  # Show success message\n",
        "    # clear_entries()  # Clear the input fields\n",
        "    # update_treeview()  # Update the transaction list view\n"
      ],
      "metadata": {
        "id": "hJn9T2kRY4Z_"
      },
      "execution_count": 44,
      "outputs": []
    },
    {
      "cell_type": "code",
      "source": [
        "# def clear_entries(): # Clears all input fields after submission.\n",
        "#   category_entry.delete(0,tk.END)\n",
        "#   amount_entry.delete(0,tk.END)\n",
        "#   date_entry.delete(0,tk.END)"
      ],
      "metadata": {
        "id": "t-6QVr76Y4Tj"
      },
      "execution_count": 45,
      "outputs": []
    },
    {
      "cell_type": "code",
      "source": [
        "# def upadte_treeview(): #Clears the tree table.\n",
        "#   for row in tree.get_children():\n",
        "#     tree.delete(row)\n",
        "#     #Fetches all transactions from the database, newest first.\n",
        "#     c.execute(\"SELECT type,category,amount,date FROM transactions ORDER BY date DESC\")\n",
        "#     # Adds each row to the tree (table view) in the GUI.\n",
        "#     for roe in c.fetchall():\n",
        "#       tree.insert(\",tk.END,values=row\")"
      ],
      "metadata": {
        "id": "AU9v5mGrY9FJ"
      },
      "execution_count": 46,
      "outputs": []
    },
    {
      "cell_type": "code",
      "source": [
        "# Gets total expense per category for graph.\n",
        "def show_graph():\n",
        "  c.execute(\"SELECT category,SUM(amount) FROM transactions WHERE type ='Expense' GROUP By category\")\n",
        "  date=c.fetchall() #fetchall() is a method used with database cursor objects in libraries like SQLite, MySQL\n",
        " #If there are no expenses, show message.\n",
        "  if not data:\n",
        "      print(\"No expenses to display\")\n",
        "      return\n",
        "#Separates the category names and amounts for plotting.\n",
        "\n",
        "  categories= [x[0]for x in data]\n",
        "  amounts=[x[1]for x in data]\n",
        "    #Draws a pie chart showing how money is spent per category.\n",
        "  plt.pie(amounts,labels=categories,\n",
        "            autopct='%1.11%%',startangle=140)\n",
        "  plt.title(\"Expenses Distribution\")\n",
        "  plt.axis('equal')\n",
        "  plt.show()"
      ],
      "metadata": {
        "id": "vV6tozd2ZAwn"
      },
      "execution_count": 47,
      "outputs": []
    },
    {
      "cell_type": "code",
      "source": [
        "def show_transactions():\n",
        "    c.execute(\"SELECT type,catrgoty,amount,date FROM transaction ORDERBY BY date DESC\")\n",
        "    rows=c.fetchall()\n",
        "    if not rows:\n",
        "        print(\"No transactions to display\")\n",
        "        return\n",
        "\n",
        "    print(\"\\nTransactions:\")\n",
        "    for row in rows:\n",
        "        print(f\"{row[0]:<10}{row[1]:<15}{row[2]:<10}{row[3]}\")\n",
        ""
      ],
      "metadata": {
        "id": "xcP76t13aYuW"
      },
      "execution_count": 48,
      "outputs": []
    },
    {
      "cell_type": "code",
      "source": [
        "! budget_tracker.py\n"
      ],
      "metadata": {
        "colab": {
          "base_uri": "https://localhost:8080/"
        },
        "id": "2Rooh10VgL9r",
        "outputId": "c55c0373-f092-424c-8214-0c3928719a99"
      },
      "execution_count": 49,
      "outputs": [
        {
          "output_type": "stream",
          "name": "stdout",
          "text": [
            "/bin/bash: line 1: budget_tracker.py: command not found\n"
          ]
        }
      ]
    },
    {
      "cell_type": "code",
      "source": [
        "! python budget_tracker.py"
      ],
      "metadata": {
        "colab": {
          "base_uri": "https://localhost:8080/"
        },
        "id": "3WUt_Fq1ezHb",
        "outputId": "37fdb251-a008-49e2-aa8a-0a00e97c9d60"
      },
      "execution_count": 50,
      "outputs": [
        {
          "output_type": "stream",
          "name": "stdout",
          "text": [
            "python3: can't open file '/content/budget_tracker.py': [Errno 2] No such file or directory\n"
          ]
        }
      ]
    },
    {
      "cell_type": "code",
      "source": [
        "## Menu===\n",
        "def menu():\n",
        "  while True:\n",
        "     print(\"\\nPersonalvBudget Tracker Menu:\")\n",
        "     print(\"1.Add Transaction\")\n",
        "     print(\"2.Show Transactions\")\n",
        "     print(\"3.Show Expenses Graph\")\n",
        "     print(\"4.Exit\")\n",
        "     choice = input(\"Enter choice\")\n",
        "\n",
        "     if choice == '1':\n",
        "        add_transaction()\n",
        "     elif choice == '2':\n",
        "        show_transactions()\n",
        "     elif choice == '3':\n",
        "        show_graph()\n",
        "     elif choice == '4':\n",
        "        break\n",
        "     else:\n",
        "         print(\"Invalid choice.Try again.\")\n",
        "\n",
        "\n",
        "menu()\n",
        "\n",
        "#close database connection\n",
        "conn.close()"
      ],
      "metadata": {
        "colab": {
          "base_uri": "https://localhost:8080/"
        },
        "id": "ZqCWFgLMdyp1",
        "outputId": "473bc190-6547-4201-b910-6e2f8a44b742"
      },
      "execution_count": null,
      "outputs": [
        {
          "output_type": "stream",
          "name": "stdout",
          "text": [
            "\n",
            "PersonalvBudget Tracker Menu:\n",
            "1.Add Transaction\n",
            "2.Show Transactions\n",
            "3.Show Expenses Graph\n",
            "4.Exit\n"
          ]
        }
      ]
    },
    {
      "cell_type": "code",
      "source": [
        "b"
      ],
      "metadata": {
        "id": "qpfhjwQsmRnJ"
      },
      "execution_count": null,
      "outputs": []
    }
  ]
}